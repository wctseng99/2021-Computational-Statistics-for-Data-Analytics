{
 "cells": [
  {
   "cell_type": "markdown",
   "id": "c768e2f3",
   "metadata": {},
   "source": [
    "## Homework 03: due 22:00, Sunday, December 5, 2021\n",
    "\n",
    "### -\tPlease work on this Jupyter notebook directly.\n",
    "### -\tName a folder using your student id and Assignment number (e.g., b88501045-HW3), put all the python scripts and notebook files into the folder and zip the folder (e.g., b88501045-HW3.zip).\n",
    "### - Submit the homework directly through the NTU COOL course website.\n"
   ]
  },
  {
   "cell_type": "markdown",
   "id": "ee0691f5",
   "metadata": {},
   "source": [
    "#### 0. Import essential modules"
   ]
  },
  {
   "cell_type": "code",
   "execution_count": 1,
   "id": "c46f1dc5",
   "metadata": {},
   "outputs": [],
   "source": [
    "import scipy.stats as stats\n",
    "import numpy as np\n",
    "import random\n",
    "import pandas as pd\n",
    "import matplotlib.pyplot as plt\n",
    "import math"
   ]
  },
  {
   "cell_type": "markdown",
   "id": "7ed3d08a",
   "metadata": {},
   "source": [
    "#### 1. (30%) Consider the following dataset, sampled from a distribution H. We would like to know the confidence intervals for some of their given statistical properties."
   ]
  },
  {
   "cell_type": "code",
   "execution_count": 2,
   "id": "737af2d9",
   "metadata": {},
   "outputs": [],
   "source": [
    "samples = [28.82, 22.00, 24.89, 31.20, 29.34, 15.11, 24.75, 19.24, 19.48,\n",
    "       22.05, 20.72, 27.27, 23.81, 20.61, 22.22, 21.67, 27.47, 18.97,\n",
    "       21.57, 15.73,  7.24, 23.27, 24.32, 16.29, 31.35, 12.73, 20.23,\n",
    "       19.06, 27.66, 27.35, 20.77, 21.89, 15.56, 10.10, 18.26, 20.78,\n",
    "       26.15, 26.01, 18.06, 18.49]"
   ]
  },
  {
   "cell_type": "code",
   "execution_count": 3,
   "id": "a994d551",
   "metadata": {},
   "outputs": [
    {
     "data": {
      "text/plain": [
       "40"
      ]
     },
     "execution_count": 3,
     "metadata": {},
     "output_type": "execute_result"
    }
   ],
   "source": [
    "len(samples)"
   ]
  },
  {
   "cell_type": "markdown",
   "id": "c86511e5",
   "metadata": {},
   "source": [
    "#### Please complete the following tasks."
   ]
  },
  {
   "cell_type": "markdown",
   "id": "a4f7554a",
   "metadata": {},
   "source": [
    "##### 1.1 (10%) Assuming that the population standard deviation is well estimated by the sample standard deviation, find the 95% (two-sided) confidence level for the population mean. "
   ]
  },
  {
   "cell_type": "code",
   "execution_count": 4,
   "id": "2323c86c",
   "metadata": {},
   "outputs": [
    {
     "name": "stdout",
     "output_type": "stream",
     "text": [
      "The lower confidence limit is 19.892240\n",
      "The upper confidence limit is 23.232260\n"
     ]
    }
   ],
   "source": [
    "sample_mean = np.mean(samples)\n",
    "sample_stdev = np.std(samples, ddof=1)\n",
    "population_stdev = sample_stdev/math.sqrt(40)\n",
    "\n",
    "z_25 = stats.norm.ppf(0.025)\n",
    "z_975 = stats.norm.ppf(0.975)\n",
    "\n",
    "q_25 = sample_mean + z_25*population_stdev\n",
    "q_975 = sample_mean + z_975*population_stdev\n",
    "\n",
    "print('The lower confidence limit is', format(q_25, '4f'))\n",
    "print('The upper confidence limit is', format(q_975, '4f'))"
   ]
  },
  {
   "cell_type": "markdown",
   "id": "5b2c862c",
   "metadata": {},
   "source": [
    "##### 1.2 (10%) Assuming that the population standard deviation is unknown, estimate the 95% (two-sided) confidence level for the population mean."
   ]
  },
  {
   "cell_type": "code",
   "execution_count": 5,
   "id": "7a912844",
   "metadata": {},
   "outputs": [
    {
     "name": "stdout",
     "output_type": "stream",
     "text": [
      "The lower confidence limit is 19.838792\n",
      "The upper confidence limit is 23.285708\n"
     ]
    }
   ],
   "source": [
    "sample_mean = np.mean(samples)\n",
    "sample_stdev = np.std(samples, ddof=1)\n",
    "dof = 40-1\n",
    "\n",
    "t_25_dof = stats.t.ppf(0.025, df = dof)\n",
    "t_975_dof = stats.t.ppf(0.975, df = dof)\n",
    "\n",
    "q_25 = sample_mean + t_25_dof*sample_stdev/math.sqrt(40)\n",
    "q_975 =  sample_mean + t_975_dof*sample_stdev/math.sqrt(40)\n",
    "\n",
    "print('The lower confidence limit is', format(q_25, '4f'))\n",
    "print('The upper confidence limit is', format(q_975, '4f'))"
   ]
  },
  {
   "cell_type": "markdown",
   "id": "f62cc664",
   "metadata": {},
   "source": [
    "##### 1.3 (10%) Find the 95% (two-sided) confidence level for the population standard deviation."
   ]
  },
  {
   "cell_type": "code",
   "execution_count": 6,
   "id": "9ea7a225",
   "metadata": {},
   "outputs": [
    {
     "name": "stdout",
     "output_type": "stream",
     "text": [
      "The lower confidence limit is 6.919554\n",
      "The upper confidence limit is 4.414387\n"
     ]
    }
   ],
   "source": [
    "sample_stdev = np.std(samples, ddof=1)\n",
    "sample_var = sample_stdev*sample_stdev\n",
    "dof = 40-1\n",
    "\n",
    "chi_25 = stats.chi2.ppf(0.025, df = dof)\n",
    "chi_975 = stats.chi2.ppf(0.975, df = dof)\n",
    "\n",
    "q_25 = sample_var*(40-1)/chi_25\n",
    "q_975 = sample_var*(40-1)/chi_975\n",
    "\n",
    "q_25_std = math.sqrt(q_25)\n",
    "q_975_std = math.sqrt(q_975)\n",
    "\n",
    "print('The lower confidence limit is', format(q_25_std, '4f'))\n",
    "print('The upper confidence limit is', format(q_975_std, '4f'))"
   ]
  },
  {
   "cell_type": "markdown",
   "id": "8caa4c35",
   "metadata": {},
   "source": [
    "#### 2. (30%) From the attached data file _ETH-Kobo_Jan.csv_, you can find historical January rainfall for 1993-2020 in Kobo, Ethiopia. Suppose that rainfall data follows the Gamma distribution, Gamma(α,β), where α=0.86 and β=74.28. Please complete the following tasks."
   ]
  },
  {
   "cell_type": "markdown",
   "id": "39172dff",
   "metadata": {},
   "source": [
    "##### 2.1 (15%) Find the 95% (two-sided) confidence level for the population mean using empirical bootstrapping (please set the number of bootstraps as 100)."
   ]
  },
  {
   "cell_type": "code",
   "execution_count": 7,
   "id": "0dce7d07",
   "metadata": {},
   "outputs": [],
   "source": [
    "df_rain_Kobo_Jan = pd.read_csv(\"ETH-Kobo_Jan.csv\")\n",
    "samples = df_rain_Kobo_Jan['Kobo']"
   ]
  },
  {
   "cell_type": "code",
   "execution_count": 8,
   "id": "5e882164",
   "metadata": {},
   "outputs": [
    {
     "data": {
      "text/plain": [
       "array([130.628   ,   2.70096 ,   6.30129 , 145.082   , 131.76    ,\n",
       "       163.011   ,  80.1149  ,   2.42727 ,  40.1517  , 117.45    ,\n",
       "        51.4494  , 146.583   , 148.249   ,   7.2748  ,  76.2307  ,\n",
       "        48.2079  ,  45.4129  ,  21.4687  ,  98.6212  ,  10.3455  ,\n",
       "        70.8016  ,  33.1062  ,  23.1936  , 119.227   ,   0.651993,\n",
       "        31.2631  ,   2.01456 ,  43.6482  ])"
      ]
     },
     "execution_count": 8,
     "metadata": {},
     "output_type": "execute_result"
    }
   ],
   "source": [
    "type(samples)\n",
    "sample_mean = np.mean(samples)\n",
    "# sample_stdev = np.std(samples, ddof = 1)\n",
    "\n",
    "nBootstraps = 100\n",
    "nSamples = len(samples)\n",
    "np.random.seed(0)\n",
    "np_samples = np.array(samples)\n",
    "np_samples"
   ]
  },
  {
   "cell_type": "code",
   "execution_count": 9,
   "id": "fa8f26ef",
   "metadata": {},
   "outputs": [
    {
     "data": {
      "text/plain": [
       "array([105.65166127,  67.85259491,  89.71812037,  36.30153629,\n",
       "        61.57741409,  69.12338617,  59.47558851,  72.58454138,\n",
       "        76.63058562,  46.93042049, 110.43707206,  71.09456607,\n",
       "        69.250773  ,  77.6061909 ,  75.85543516,  69.26837063,\n",
       "        64.8051303 ,  74.0492473 ,  58.29934567,  94.36091377,\n",
       "        96.00403765,  64.65510157,  61.67881924,  73.20900805,\n",
       "        66.81303826,  97.15087219,  69.48647207,  72.88623226,\n",
       "        77.39856134,  72.42752766,  60.42478679, 101.32384646,\n",
       "        65.37482623,  62.13783427,  66.71208219,  84.33737047,\n",
       "        67.62763805,  78.60672378,  71.36816857,  74.61500885,\n",
       "        76.58023763,  87.21583854,  68.95775866,  78.80509556,\n",
       "        88.63217554,  77.37813583,  72.12795693,  62.21759282,\n",
       "        72.90512271,  49.72952236,  52.00860978,  80.16208716,\n",
       "        65.43294979,  49.28278954,  83.95884288,  61.93039268,\n",
       "        74.64273602,  85.18217016,  69.22892104,  74.5907606 ,\n",
       "        72.9440734 ,  76.76392999,  90.2367169 ,  56.63623366,\n",
       "        92.81149151,  81.79576708,  86.28269994,  70.43379226,\n",
       "        54.26999471,  48.46504782,  60.821476  ,  43.13978502,\n",
       "        84.71291935,  65.8964583 ,  90.52205505,  78.08194234,\n",
       "        91.52097161,  55.85470188,  68.87717289,  74.67439823,\n",
       "        69.33986968,  79.06368247,  62.0789363 ,  73.83159556,\n",
       "        38.44105709,  68.02557001,  58.70614511,  90.04320884,\n",
       "        97.77132851,  67.23667014,  48.55681264,  78.53269947,\n",
       "        82.81249148,  72.22049734,  87.55892968,  90.8617145 ,\n",
       "        79.61753784,  81.99539382,  81.4631376 ,  70.76139253])"
      ]
     },
     "execution_count": 9,
     "metadata": {},
     "output_type": "execute_result"
    }
   ],
   "source": [
    "\n",
    "\n",
    "resamples_mean = np.zeros(nBootstraps)\n",
    "resamples_alpha = np.zeros(nBootstraps)\n",
    "resamples_beta = np.zeros(nBootstraps)\n",
    "# resamples_std = np.zeros(nBootstraps)\n",
    "\n",
    "\n",
    "for b in range(nBootstraps):\n",
    "    resamples_b = np.random.choice(np_samples, size = nSamples, replace=True)\n",
    "    mean_resamples_b = np.mean(resamples_b)\n",
    "    gamma = stats.gamma.fit(resamples_b, floc=0)\n",
    "    # std_resamples_b = np.std(resamples_b, ddof = 1)\n",
    "    \n",
    "    resamples_mean[b] = mean_resamples_b\n",
    "    # resamples_std[b] = std_resamples_b\n",
    "    resamples_alpha[b] = gamma[0]\n",
    "    resamples_beta[b] = gamma[2]\n",
    "\n",
    "resamples_beta"
   ]
  },
  {
   "cell_type": "code",
   "execution_count": 10,
   "id": "f8b1d2d4",
   "metadata": {},
   "outputs": [
    {
     "name": "stdout",
     "output_type": "stream",
     "text": [
      "Two-sided 95% CIs for mean using empirical bootstrapping\n",
      "The lower limit of CI for mean = 43.65\n",
      "The upper limit of CI for mean = 83.68\n"
     ]
    }
   ],
   "source": [
    "delta_mean =  resamples_mean - sample_mean\n",
    "\n",
    "CI_mean_lower, CI_mean_upper = sample_mean - np.percentile(delta_mean,[97.5,2.5])\n",
    "# CI_std_lower, CI_std_upper = sample_stdev - np.percentile(delta_std,[97.5,2.5])\n",
    "\n",
    "print('Two-sided 95% CIs for mean using empirical bootstrapping')\n",
    "print('The lower limit of CI for mean =', format(CI_mean_lower, '.2f'))\n",
    "print('The upper limit of CI for mean =', format(CI_mean_upper, '.2f'))"
   ]
  },
  {
   "cell_type": "markdown",
   "id": "60e79ec0",
   "metadata": {},
   "source": [
    "##### 2.2\t(15%) Find the 90% (two-sided) confidence level for the fitted parameters of the Gamma distribution using percentile bootstrapping (please set the number of bootstraps as 100)."
   ]
  },
  {
   "cell_type": "code",
   "execution_count": 11,
   "id": "f442cf39",
   "metadata": {},
   "outputs": [
    {
     "name": "stdout",
     "output_type": "stream",
     "text": [
      "Two-sided 95% CIs for alpha using percentile bootstrapping\n",
      "The lower limit of CI for alpha = 0.64\n",
      "The upper limit of CI for alpha = 1.60\n",
      "Two-sided 95% CIs for beta using percentile bootstrapping\n",
      "The lower limit of CI for beta = 48.55\n",
      "The upper limit of CI for beta = 96.06\n"
     ]
    }
   ],
   "source": [
    "CI_alpha_lower, CI_alpha_upper = np.percentile(resamples_alpha, [5, 95])\n",
    "CI_beta_lower, CI_beta_upper = np.percentile(resamples_beta, [5, 95])\n",
    "\n",
    "print('Two-sided 95% CIs for alpha using percentile bootstrapping')\n",
    "print('The lower limit of CI for alpha =', format(CI_alpha_lower, '.2f'))\n",
    "print('The upper limit of CI for alpha =', format(CI_alpha_upper, '.2f'))\n",
    "\n",
    "print('Two-sided 95% CIs for beta using percentile bootstrapping')\n",
    "print('The lower limit of CI for beta =', format(CI_beta_lower, '.2f'))\n",
    "print('The upper limit of CI for beta =', format(CI_beta_upper, '.2f'))"
   ]
  },
  {
   "cell_type": "markdown",
   "id": "ac192ecd",
   "metadata": {},
   "source": [
    "#### 3. (50%) Taiwan had done a great job in preventing local transmission of COVID-19 for over a year. However, due to a series of unfortunate events, local infections outbroke in May 2020. In the attached file _Covid19_TPE.csv_, you can find the records for the number of infected from 2021/05/15 to 2021/06/13 for Taipei City. Your task is to evaluate if the ‘soft’ lockdown introduced on 2021/05/15 by the Taipei City  work. More specifically, considering the 14-day incubation period of COVID-19, we want to compare if there is a decrease in the average number of infections before and after the 14-day incubation period (i.e., the potential effective date starting on 2021/05/29 in Taipei). Please perform the statstical tests under the following different scenarios."
   ]
  },
  {
   "cell_type": "code",
   "execution_count": 12,
   "id": "e26e4d2e",
   "metadata": {},
   "outputs": [],
   "source": [
    "df_covid19 = pd.read_csv(\"Covid19_TPE.csv\")\n",
    "df_covid19\n",
    "df_covid19_A = df_covid19.iloc[:14]\n",
    "df_covid19_B = df_covid19.iloc[14:]\n",
    "\n",
    "np_covid19_A = np.array(df_covid19_A['Taipei_Infected'])\n",
    "np_covid19_B = np.array(df_covid19_B['Taipei_Infected'])\n",
    "# samples = np_covid19_TPE"
   ]
  },
  {
   "cell_type": "markdown",
   "id": "42e90a18",
   "metadata": {},
   "source": [
    "##### 3.1 (10%) Scenario 1 (asymmetric case): $\\mu_A$ is known; $\\mu_B$ is not known; $\\sigma_B=\\sigma_A = \\sigma$\n",
    "\n",
    "1. Null Hypothesis $ H_0: \\mu_A = \\mu_B$\n",
    "2. Alternative Hypothesis $ H_1: \\mu_B> \\mu_A$\n",
    "3. Test statistic $Z = \\frac{\\bar{X}_{B}-\\mu_B}{\\sigma/\\sqrt{n}}$\n",
    "4. Distribution of test statistic $Z \\sim N(0,1)$\n",
    "5. Critical Region $\\Re$: $Z>z_\\alpha$ (e.g. $\\alpha=1$\\%)\n",
    "6. Evaluate $Z$ under $H_0$  & if $z_0>z_\\alpha \\Rightarrow$ Reject $H_0$\n",
    "7. $p$-value: $p(Z>z_0)$"
   ]
  },
  {
   "cell_type": "code",
   "execution_count": 13,
   "id": "be129756",
   "metadata": {},
   "outputs": [
    {
     "name": "stdout",
     "output_type": "stream",
     "text": [
      "test statistic Z = -3.5208\n",
      "z_alpha = -2.3263\n",
      "We have to reject H0, and the p-value is 0.0002\n"
     ]
    }
   ],
   "source": [
    "n_samples = len(np_covid19_B)\n",
    "A_mean_samples = np.mean(np_covid19_A)\n",
    "mu_A = A_mean_samples\n",
    "A_stdev_samples = np.std(np_covid19_A, ddof=1)\n",
    "sigma = A_stdev_samples\n",
    "\n",
    "B_mean_samples = np.mean(np_covid19_B)\n",
    "mu_B = mu_A\n",
    "\n",
    "Z = (B_mean_samples - mu_B)/(sigma/np.sqrt(n_samples))\n",
    "\n",
    "alpha  = 0.01\n",
    "z_alpha = stats.norm.ppf(alpha)\n",
    "\n",
    "print(f'test statistic Z = {Z:.4f}')\n",
    "print(f'z_alpha = {z_alpha:.4f}')\n",
    "\n",
    "if Z < z_alpha:\n",
    "    p_value = stats.norm.cdf(Z)\n",
    "    print(f'We have to reject H0, and the p-value is {p_value:.4f}')\n",
    "else:\n",
    "    print('We have no ground to reject H0') "
   ]
  },
  {
   "cell_type": "markdown",
   "id": "154e27d2",
   "metadata": {},
   "source": [
    "##### 3.2 (10%) Scenario 2 (asymmetric case): $\\mu_A$ is known; $\\mu_B$ is not known; $\\sigma_B$ is not known\n",
    "\n",
    "1. Null Hypothesis $ H_0: \\mu_A = \\mu_B$\n",
    "2. Alternative Hypothesis $ H_1: \\mu_B> \\mu_A$\n",
    "3. Test statistic $T = \\frac{\\bar{X}_{B}-\\mu_B}{\\hat{S_x}_B/\\sqrt{n}}$\n",
    "4. Distribution of test statistic $T \\sim t(n-1)$\n",
    "5. Critical Region $\\Re$: $T>t_{n-1,\\alpha}$ (e.g. $\\alpha=1$\\%)\n",
    "6. Evaluate $T$ under $H_0$  & if $t_0>t_{n-1,\\alpha} \\Rightarrow$ Reject $H_0$\n",
    "7. $p$-value: $p(T>t_0)$"
   ]
  },
  {
   "cell_type": "code",
   "execution_count": 14,
   "id": "3c46f41a",
   "metadata": {},
   "outputs": [
    {
     "name": "stdout",
     "output_type": "stream",
     "text": [
      "test statistic T = -5.2536\n",
      "t_alpha = -2.6025\n",
      "We have to reject H0, and the p-value is 0.0000\n"
     ]
    }
   ],
   "source": [
    "A_mean_samples = np.mean(np_covid19_A)\n",
    "mu_A = A_mean_samples\n",
    "\n",
    "B_mean_samples = np.mean(np_covid19_B)\n",
    "mu_B = mu_A\n",
    "B_stdev_samples = np.std(np_covid19_B, ddof=1)\n",
    "\n",
    "T = (B_mean_samples - mu_B)/(B_stdev_samples/np.sqrt(n_samples))\n",
    "\n",
    "df = len(np_covid19_B) - 1\n",
    "\n",
    "alpha = 0.01\n",
    "t_alpha = stats.t.ppf(alpha, df)\n",
    "\n",
    "print(f'test statistic T = {T:.4f}')\n",
    "print(f't_alpha = {t_alpha:.4f}')\n",
    "\n",
    "if T < t_alpha:\n",
    "    p_value = stats.t.cdf(T, df)\n",
    "    print(f'We have to reject H0, and the p-value is {p_value:.4f}')\n",
    "else:\n",
    "    print('We have no ground to reject H0')\n"
   ]
  },
  {
   "cell_type": "markdown",
   "id": "e354f3a2",
   "metadata": {},
   "source": [
    "##### 3.3 (10%) Scenario 3 (symmetric case): $\\mu_A$ is not known; $\\mu_B$ is not known; $\\sigma_B$ is known; $\\sigma_A$ is known\n",
    "1. Null Hypothesis: $ H_0: \\mu_A = \\mu_B$\n",
    "2. Alternative Hypothesis: $ H_1: \\mu_A \\neq \\mu_B$\n",
    "3. Test statistic: $Z = \\frac{(\\bar{X}_A - \\bar{X}_B)-(\\mu_A-\\mu_B)}{\\sigma_{{\\bar{X}_A} -{\\bar{X}_B}} }$\n",
    "4. Distribution of test statistic: $Z \\sim N(0,1)$\n",
    "5. Critical Region $\\Re$: $|Z|>z_{\\alpha/2}$ (e.g. $\\alpha=5$\\%)\n",
    "6. Evaluate $Z$ under $H_0$: if $|z_0|>z_{\\alpha/2} \\Rightarrow$ Reject $H_0$\n",
    "7. $p$-value & $p(|Z|>z_0)$\n",
    "\n",
    "where $\\sigma_{{\\bar{X}_A} -{\\bar{X}_B}} = \\sqrt{\\frac{\\sigma_A^2}{n_A} +\\frac {\\sigma_B^2}{n_B} }$ "
   ]
  },
  {
   "cell_type": "code",
   "execution_count": 15,
   "id": "5f899670",
   "metadata": {},
   "outputs": [
    {
     "name": "stdout",
     "output_type": "stream",
     "text": [
      "test statistic Z = -2.4052\n",
      "z_alpha = -2.3263\n",
      "We have to reject H0, and the p-value is 0.0081\n"
     ]
    }
   ],
   "source": [
    "A_mean_samples = np.mean(np_covid19_A)\n",
    "A_stdev_samples = np.std(np_covid19_A, ddof=1)\n",
    "sigma_A = A_stdev_samples\n",
    "\n",
    "B_mean_samples = np.mean(np_covid19_B)\n",
    "B_stdev_samples = np.std(np_covid19_A, ddof=1)\n",
    "sigma_B = B_stdev_samples\n",
    "\n",
    "sigma_A_B = np.sqrt((sigma_A*sigma_A/len(np_covid19_A)) + (sigma_B*sigma_B/len(np_covid19_B)))\n",
    "\n",
    "Z = -np.abs((A_mean_samples - B_mean_samples)/sigma_A_B)\n",
    "\n",
    "alpha  = 0.01\n",
    "z_alpha = stats.norm.ppf(alpha)\n",
    "\n",
    "print(f'test statistic Z = {Z:.4f}')\n",
    "print(f'z_alpha = {z_alpha:.4f}')\n",
    "\n",
    "if Z < z_alpha:\n",
    "    p_value = stats.norm.cdf(Z)\n",
    "    print(f'We have to reject H0, and the p-value is {p_value:.4f}')\n",
    "else:\n",
    "    print('We have no ground to reject H0')"
   ]
  },
  {
   "cell_type": "markdown",
   "id": "395f6366",
   "metadata": {},
   "source": [
    "##### 3.4 (10%) Scenario 4 (symmetric case): $\\mu_A$ is not known; $\\mu_B$ is not known; $\\sigma_B= \\sigma_A = \\sigma$ is not known\n",
    "1. Null Hypothesis: $ H_0: \\mu_A = \\mu_B$\n",
    "2. Alternative Hypothesis: $ H_1: \\mu_A > \\mu_B$\n",
    "3. Test statistic: $t = \\frac{ (\\bar{X}_A - \\bar{X}_B)-(\\mu_A-\\mu_B)} {\\widehat{S}_{X_A,X_B} \\sqrt{\\frac{1}{n_A} +\\frac{1}{n_B} } } $\n",
    "4. Distribution of test statistic: $T \\sim t(n_A +n_B -2)$\n",
    "5. Critical Region $\\Re$: $T>t_{n_A+n_B-2,\\alpha}$\n",
    "6. Evaluate $T$ under $H_0$:if $t_0>t_{n_A+n_B-2,\\alpha} \\Rightarrow$ Reject $H_0$\n",
    "7. $p$-value: $p(T>t_0)$\n",
    "\n",
    "where $\\widehat{S}_{X_A,X_B}^2 =  \\frac{(n_A-1) \\widehat{S}_{X_A}^2 +(n_B-1) \\widehat{S}_{X_B}^2  }{n_A + n_B - 2}$"
   ]
  },
  {
   "cell_type": "code",
   "execution_count": 16,
   "id": "b3f78d7d",
   "metadata": {},
   "outputs": [
    {
     "name": "stdout",
     "output_type": "stream",
     "text": [
      "test statistic T = -2.8648\n",
      "t_alpha = -2.4671\n",
      "We have to reject H0, and the p-value is 0.0039\n"
     ]
    }
   ],
   "source": [
    "A_mean_samples = np.mean(np_covid19_A)\n",
    "A_stdev_samples = np.std(np_covid19_A, ddof=1)\n",
    "\n",
    "B_mean_samples = np.mean(np_covid19_B)\n",
    "B_stdev_samples = np.std(np_covid19_B, ddof=1)\n",
    "\n",
    "stdev_sample_A_B = np.sqrt((((len(np_covid19_A)-1)*A_stdev_samples*A_stdev_samples) + ((len(np_covid19_B)-1)*B_stdev_samples*B_stdev_samples))/(len(np_covid19_A)+len(np_covid19_B)-2))\n",
    "\n",
    "T = -np.abs((A_mean_samples - B_mean_samples))/(stdev_sample_A_B*np.sqrt(1/len(np_covid19_A)+1/len(np_covid19_B)))\n",
    "\n",
    "df = len(np_covid19_A)+len(np_covid19_B)-2\n",
    "\n",
    "alpha = 0.01\n",
    "t_alpha = stats.t.ppf(alpha, df)\n",
    "\n",
    "print(f'test statistic T = {T:.4f}')\n",
    "print(f't_alpha = {t_alpha:.4f}')\n",
    "\n",
    "p_value = stats.t.cdf(T,df)\n",
    "\n",
    "if T < t_alpha:\n",
    "    \n",
    "    print(f'We have to reject H0, and the p-value is {p_value:.4f}')\n",
    "else:\n",
    "    print(f'We have no ground to reject H0, and the p-value is {p_value:.4f}')\n"
   ]
  },
  {
   "cell_type": "markdown",
   "id": "488c1975",
   "metadata": {},
   "source": [
    "##### 3.5 (10%) Scenario 5 (symmetric case): $\\mu_A$ is not known; $\\mu_B$ is not known; $\\sigma_B$ is not known; $\\sigma_A$ is not known\n",
    "1. Null Hypothesis: $ H_0: \\mu_A = \\mu_B$\n",
    "2. Alternative Hypothesis: $ H_1: \\mu_A > \\mu_B$\n",
    "3. Test statistic: $R = \\frac{ (\\bar{X}_A - \\bar{X}_B)-(\\mu_A-\\mu_B)} { \\sqrt{\\frac{\\hat{S_x}_{A}^2 }{n_A} +\\frac{\\hat{S_x}_{B}^2}{n_B} } }  $\n",
    "4. Distribution of test statistic: $R \\sim t(\\nu)$\n",
    "5. Critical Region $\\Re$: $R>t_{\\nu,\\alpha}$\n",
    "6. Evaluate $R$ under $H_0$: if $r_0>t_{\\nu,\\alpha} \\Rightarrow$ Reject $H_0$\n",
    "7. $p$-value: $p(R>r_0)$\n",
    "\n",
    "$\\nu \\approx  \\left( \\frac{\\hat{S_x}_{A}^2 }{n_A} +\\frac{\\hat{S_x}_{B}^2}{n_B} \\right)^2 / \\left[ \\frac{1}{n_A-1} \\left( \\frac{\\hat{S_x}_{A}^2 }{n_A} \\right)^2 + \\frac{1}{n_B-1} \\left( \\frac{\\hat{S_x}_{B}^2 }{n_B} \\right)^2 \\right]$\n"
   ]
  },
  {
   "cell_type": "code",
   "execution_count": 17,
   "id": "a5036ce7",
   "metadata": {},
   "outputs": [
    {
     "name": "stdout",
     "output_type": "stream",
     "text": [
      "test statistic T = -2.7905\n",
      "t_alpha = -2.5062\n",
      "We have to reject H0, and the p-value is 0.0053\n"
     ]
    }
   ],
   "source": [
    "A_mean_samples = np.mean(np_covid19_A)\n",
    "A_stdev_samples = np.std(np_covid19_A, ddof=1)\n",
    "\n",
    "B_mean_samples = np.mean(np_covid19_B)\n",
    "B_stdev_samples = np.std(np_covid19_B, ddof=1)\n",
    "\n",
    "S_xA_n = A_stdev_samples*A_stdev_samples/len(np_covid19_A)\n",
    "S_xB_n = B_stdev_samples*B_stdev_samples/len(np_covid19_B)\n",
    "\n",
    "R = -np.abs((A_mean_samples - B_mean_samples))/np.sqrt(S_xA_n + S_xB_n)\n",
    "\n",
    "nu = (S_xA_n+S_xB_n)**2/(S_xA_n*S_xA_n/(len(np_covid19_A)-1) + S_xB_n*S_xB_n/(len(np_covid19_B)-1))\n",
    "\n",
    "alpha = 0.01\n",
    "t_alpha = stats.t.ppf(alpha, nu)\n",
    "\n",
    "print(f'test statistic T = {R:.4f}')\n",
    "print(f't_alpha = {t_alpha:.4f}')\n",
    "\n",
    "p_value = stats.t.cdf(R,nu)\n",
    "\n",
    "if R < t_alpha:\n",
    "    print(f'We have to reject H0, and the p-value is {p_value:.4f}')\n",
    "else:\n",
    "    print(f'We have no ground to reject H0, and the p-value is {p_value:.4f}')\n"
   ]
  }
 ],
 "metadata": {
  "kernelspec": {
   "display_name": "Python 3",
   "language": "python",
   "name": "python3"
  },
  "language_info": {
   "codemirror_mode": {
    "name": "ipython",
    "version": 3
   },
   "file_extension": ".py",
   "mimetype": "text/x-python",
   "name": "python",
   "nbconvert_exporter": "python",
   "pygments_lexer": "ipython3",
   "version": "3.9.7"
  }
 },
 "nbformat": 4,
 "nbformat_minor": 5
}
