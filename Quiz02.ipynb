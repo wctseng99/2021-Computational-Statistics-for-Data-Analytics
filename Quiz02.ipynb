{
 "cells": [
  {
   "cell_type": "markdown",
   "id": "04653534",
   "metadata": {},
   "source": [
    "### Quiz 02: due 23:59, Thursday, December 9, 2021\n",
    "\n",
    "### -\tPlease work on this Jupyter notebook directly.\n",
    "### -\tName a folder using your student id and quiz number (e.g., b88501045-quiz02), put this Jupyter notebook and all output files into this folder and compress this folder to a .zip file (e.g., b88501045-quiz02.zip).\n",
    "### - Submit the Midterm directly through the NTU COOL course website.\n"
   ]
  },
  {
   "cell_type": "markdown",
   "id": "b04c17f3",
   "metadata": {},
   "source": [
    "### The attached csv file _Nettebach_5MIN.csv_ includes 49 years of 5-min rainfall records at Nettebach, Germany. Data with such long history is perfect for climate change study. Your task is to perform some statistical tests to confirm the impacts of climate changes onto the rainfall pattern in Nettebach. \n"
   ]
  },
  {
   "cell_type": "code",
   "execution_count": 135,
   "id": "44a7234d",
   "metadata": {},
   "outputs": [],
   "source": [
    "import scipy.stats as stats\n",
    "import numpy as np\n",
    "import random\n",
    "import pandas as pd\n",
    "import matplotlib.pyplot as plt\n",
    "import math\n",
    "import pymannkendall as mk\n",
    "import statsmodels.api as sm"
   ]
  },
  {
   "cell_type": "code",
   "execution_count": 136,
   "id": "d01d0151",
   "metadata": {},
   "outputs": [
    {
     "data": {
      "text/html": [
       "<div>\n",
       "<style scoped>\n",
       "    .dataframe tbody tr th:only-of-type {\n",
       "        vertical-align: middle;\n",
       "    }\n",
       "\n",
       "    .dataframe tbody tr th {\n",
       "        vertical-align: top;\n",
       "    }\n",
       "\n",
       "    .dataframe thead th {\n",
       "        text-align: right;\n",
       "    }\n",
       "</style>\n",
       "<table border=\"1\" class=\"dataframe\">\n",
       "  <thead>\n",
       "    <tr style=\"text-align: right;\">\n",
       "      <th></th>\n",
       "      <th>datetime</th>\n",
       "      <th>Rain[mm]</th>\n",
       "    </tr>\n",
       "  </thead>\n",
       "  <tbody>\n",
       "    <tr>\n",
       "      <th>0</th>\n",
       "      <td>1960-01-01 00:00:00</td>\n",
       "      <td>0.0</td>\n",
       "    </tr>\n",
       "    <tr>\n",
       "      <th>1</th>\n",
       "      <td>1960-01-01 00:05:00</td>\n",
       "      <td>0.0</td>\n",
       "    </tr>\n",
       "    <tr>\n",
       "      <th>2</th>\n",
       "      <td>1960-01-01 00:10:00</td>\n",
       "      <td>0.0</td>\n",
       "    </tr>\n",
       "    <tr>\n",
       "      <th>3</th>\n",
       "      <td>1960-01-01 00:15:00</td>\n",
       "      <td>0.0</td>\n",
       "    </tr>\n",
       "    <tr>\n",
       "      <th>4</th>\n",
       "      <td>1960-01-01 00:20:00</td>\n",
       "      <td>0.0</td>\n",
       "    </tr>\n",
       "    <tr>\n",
       "      <th>...</th>\n",
       "      <td>...</td>\n",
       "      <td>...</td>\n",
       "    </tr>\n",
       "    <tr>\n",
       "      <th>5154619</th>\n",
       "      <td>2008-12-31 23:35:00</td>\n",
       "      <td>0.0</td>\n",
       "    </tr>\n",
       "    <tr>\n",
       "      <th>5154620</th>\n",
       "      <td>2008-12-31 23:40:00</td>\n",
       "      <td>0.0</td>\n",
       "    </tr>\n",
       "    <tr>\n",
       "      <th>5154621</th>\n",
       "      <td>2008-12-31 23:45:00</td>\n",
       "      <td>0.0</td>\n",
       "    </tr>\n",
       "    <tr>\n",
       "      <th>5154622</th>\n",
       "      <td>2008-12-31 23:50:00</td>\n",
       "      <td>0.0</td>\n",
       "    </tr>\n",
       "    <tr>\n",
       "      <th>5154623</th>\n",
       "      <td>2008-12-31 23:55:00</td>\n",
       "      <td>0.0</td>\n",
       "    </tr>\n",
       "  </tbody>\n",
       "</table>\n",
       "<p>5154624 rows × 2 columns</p>\n",
       "</div>"
      ],
      "text/plain": [
       "                   datetime  Rain[mm]\n",
       "0       1960-01-01 00:00:00       0.0\n",
       "1       1960-01-01 00:05:00       0.0\n",
       "2       1960-01-01 00:10:00       0.0\n",
       "3       1960-01-01 00:15:00       0.0\n",
       "4       1960-01-01 00:20:00       0.0\n",
       "...                     ...       ...\n",
       "5154619 2008-12-31 23:35:00       0.0\n",
       "5154620 2008-12-31 23:40:00       0.0\n",
       "5154621 2008-12-31 23:45:00       0.0\n",
       "5154622 2008-12-31 23:50:00       0.0\n",
       "5154623 2008-12-31 23:55:00       0.0\n",
       "\n",
       "[5154624 rows x 2 columns]"
      ]
     },
     "execution_count": 136,
     "metadata": {},
     "output_type": "execute_result"
    }
   ],
   "source": [
    "#read data\n",
    "fn = pd.read_csv('Nettebach_5MIN.csv')\n",
    "\n",
    "fn['datetime'] = pd.to_datetime(fn['datetime'], format = '%Y/%m/%d %H:%M:%S' )\n",
    "# dt = pd.to_datetime(fn['datetime'], format = '%Y-%m-%d %H:%M:%S')\n",
    "# fn"
   ]
  },
  {
   "cell_type": "markdown",
   "id": "7a4dde40",
   "metadata": {},
   "source": [
    "#### 1. _Mean Test_ (50% = 10% $\\times$ 5 )\n",
    "\n",
    "#### Please perform statistical tests to check if the mean of the _annual_ rainfall in 1985-2008 is larger than that of the annual rainfall in 1960 – 1984 ($\\alpha = 0.01$). \n",
    "\n",
    "#### The statistical tests shall be conducted under the following five different scenarios."
   ]
  },
  {
   "cell_type": "code",
   "execution_count": 137,
   "id": "dbcf884c",
   "metadata": {},
   "outputs": [
    {
     "data": {
      "text/plain": [
       "RangeIndex(start=0, stop=49, step=1)"
      ]
     },
     "execution_count": 137,
     "metadata": {},
     "output_type": "execute_result"
    }
   ],
   "source": [
    "from datetime import datetime\n",
    "# resample data as annual rainfall\n",
    "annual_rain = fn.resample('Y', on = 'datetime').sum().reset_index())\n",
    "annual_rain.index\n"
   ]
  },
  {
   "cell_type": "code",
   "execution_count": 138,
   "id": "06516f77",
   "metadata": {},
   "outputs": [],
   "source": [
    "#divid data as datetime and rainfall\n",
    "dt = annual_rain['datetime']\n",
    "counts_Nettebach = annual_rain['Rain[mm]']"
   ]
  },
  {
   "cell_type": "code",
   "execution_count": 156,
   "id": "05a66c6d",
   "metadata": {},
   "outputs": [
    {
     "name": "stdout",
     "output_type": "stream",
     "text": [
      "25     807.77\n",
      "26     876.48\n",
      "27     865.64\n",
      "28     893.68\n",
      "29     638.72\n",
      "30     804.99\n",
      "31     694.82\n",
      "32     843.36\n",
      "33     945.25\n",
      "34     981.30\n",
      "35     789.44\n",
      "36     702.48\n",
      "37     732.26\n",
      "38    1040.90\n",
      "39     793.97\n",
      "40     886.15\n",
      "41     833.85\n",
      "42    1048.43\n",
      "43     799.80\n",
      "44     960.09\n",
      "45     798.32\n",
      "46     878.66\n",
      "47    1023.62\n",
      "48     889.24\n",
      "Name: Rain[mm], dtype: float64\n"
     ]
    }
   ],
   "source": [
    "#split data as: 'Before 1985' and 'After 1985' \n",
    "dt_rainfall = datetime.strptime('1985-01-01', '%Y-%M-%d')\n",
    "annual_rain_p1 = counts_Nettebach[dt < dt_rainfall]\n",
    "annual_rain_p2 = counts_Nettebach[dt >= dt_rainfall]\n",
    "\n",
    "#lenth\n",
    "len_rain_p1 = len(annual_rain_p1)\n",
    "len_rain_p2 = len(annual_rain_p2)\n",
    "#mean\n",
    "mean_rain_p1 = np.mean(annual_rain_p1)\n",
    "mean_rain_p2 = np.mean(annual_rain_p2)\n",
    "#stdev\n",
    "std_rain_p1 = np.std(annual_rain_p1, ddof=1)\n",
    "std_raind_p2 = np.std(annual_rain_p2, ddof=1)\n",
    "\n",
    "alpha = 0.01"
   ]
  },
  {
   "cell_type": "markdown",
   "id": "2f6f81b6",
   "metadata": {},
   "source": [
    "#### Scenario 1 (asymmetric case): $\\mu_A$ is known; $\\mu_B$ is not known; $\\sigma_B=\\sigma_A = \\sigma$\n",
    "\n",
    "1. Null Hypothesis $ H_0: \\mu_A = \\mu_B$\n",
    "2. Alternative Hypothesis $ H_1: \\mu_B> \\mu_A$\n",
    "3. Test statistic $Z = \\frac{\\bar{X}_{B}-\\mu_B}{\\sigma/\\sqrt{n}}$\n",
    "4. Distribution of test statistic $Z \\sim N(0,1)$\n",
    "5. Critical Region $\\Re$: $Z>z_{1-\\alpha}$ (e.g. $\\alpha=1$\\%)\n",
    "6. Evaluate $Z$ under $H_0$  & if $z_0>z_{1-\\alpha} \\Rightarrow$ Reject $H_0$\n",
    "7. $p-value$: $p(Z>z_0)$"
   ]
  },
  {
   "cell_type": "code",
   "execution_count": 157,
   "id": "aacf94ff",
   "metadata": {},
   "outputs": [
    {
     "name": "stdout",
     "output_type": "stream",
     "text": [
      "test statistic Z = 2.1472\n",
      "z_alpha = 2.3263\n",
      "We have no ground to reject H0, and the p-value is 0.0159\n"
     ]
    }
   ],
   "source": [
    "mu_p1 = mean_rain_p1\n",
    "\n",
    "## This is the hypothesis\n",
    "mu_p2 = mu_p1\n",
    "sigma = std_rain_p1\n",
    "\n",
    "Z = np.abs(mean_rain_p2 - mu_p2)/(sigma/np.sqrt(len_rain_p2))\n",
    "# Z = (mean_rain_p2 - mu_p2)/(sigma/np.sqrt(len_rain_p2))\n",
    "z_alpha = stats.norm.ppf(1-alpha)\n",
    "p_value = 1-stats.norm.cdf(Z)\n",
    "\n",
    "\n",
    "print(f'test statistic Z = {Z:.4f}')\n",
    "print(f'z_alpha = {z_alpha:.4f}')\n",
    "\n",
    "if Z > z_alpha:\n",
    "    print(f'We have to reject H0, and the p-value is {p_value:.4f}')\n",
    "else:\n",
    "    print(f'We have no ground to reject H0, and the p-value is {p_value:.4f}')"
   ]
  },
  {
   "cell_type": "markdown",
   "id": "96a9767a",
   "metadata": {},
   "source": [
    "#### Scenario 2 (asymmetric case): $\\mu_A$ is known; $\\mu_B$ is not known; $\\sigma_B$ is not known\n",
    "\n",
    "1. Null Hypothesis $ H_0: \\mu_A = \\mu_B$\n",
    "2. Alternative Hypothesis $ H_1: \\mu_B> \\mu_A$\n",
    "3. Test statistic $T = \\frac{\\bar{X}_{B}-\\mu_B}{\\hat{S_x}_B/\\sqrt{n}}$\n",
    "4. Distribution of test statistic $T \\sim t(n-1)$\n",
    "5. Critical Region $\\Re$: $T>t_{n-1,1-\\alpha}$ (e.g. $\\alpha=1$\\%)\n",
    "6. Evaluate $T$ under $H_0$  & if $t_0>t_{n-1,1-\\alpha} \\Rightarrow$ Reject $H_0$\n",
    "7. $p-value$: $p(T>t_0)$\n"
   ]
  },
  {
   "cell_type": "code",
   "execution_count": 158,
   "id": "f547c5cb",
   "metadata": {},
   "outputs": [
    {
     "name": "stdout",
     "output_type": "stream",
     "text": [
      "test statistic T = 3.1937\n",
      "t_alpha = 2.4999\n",
      "We have to reject H0, and the p-value is 0.0020\n"
     ]
    }
   ],
   "source": [
    "mu_p1 = mean_rain_p1\n",
    "\n",
    "## This is the hypothesis\n",
    "mu_p2 = mu_p1\n",
    "std_p2 = std_raind_p2\n",
    "\n",
    "T = np.abs(mean_rain_p2 - mu_p2)/(std_p2/np.sqrt(len_rain_p2))\n",
    "\n",
    "df = len_rain_p2-1\n",
    "t_alpha = stats.t.ppf(1-alpha,df)\n",
    "p_value = 1-stats.t.cdf(T,df)\n",
    "\n",
    "print(f'test statistic T = {T:.4f}')\n",
    "print(f't_alpha = {t_alpha:.4f}')\n",
    "\n",
    "if T > t_alpha:\n",
    "    print(f'We have to reject H0, and the p-value is {p_value:.4f}')\n",
    "else:\n",
    "    print(f'We have no ground to reject H0, and the p-value is {p_value:.4f}')\n",
    "    "
   ]
  },
  {
   "cell_type": "markdown",
   "id": "2b268118",
   "metadata": {},
   "source": [
    "#### Scenario 3 (symmetric case): $\\mu_A$ is not known; $\\mu_B$ is not known; $\\sigma_B$ is known; $\\sigma_A$ is known\n",
    "1. Null Hypothesis: $ H_0: \\mu_A = \\mu_B$\n",
    "2. Alternative Hypothesis: $ H_1: \\mu_A \\neq \\mu_B$\n",
    "3. Test statistic: $Z = \\frac{(\\bar{X}_A - \\bar{X}_B)-(\\mu_A-\\mu_B)}{\\sigma_{{\\bar{X}_A} -{\\bar{X}_B}} }$\n",
    "4. Distribution of test statistic: $Z \\sim N(0,1)$\n",
    "5. Critical Region $\\Re$: $|Z|>z_{1-\\alpha}$ (e.g. $\\alpha=1$\\%)\n",
    "6. Evaluate $Z$ under $H_0$: if $|z_0|>z_{1-\\alpha} \\Rightarrow$ Reject $H_0$\n",
    "7. $p-value$ & $p(|Z|>z_0)$\n",
    "\n",
    "where $\\sigma_{{\\bar{X}_A} -{\\bar{X}_B}} = \\sqrt{\\frac{\\sigma_A^2}{n_A} +\\frac {\\sigma_B^2}{n_B} }$ "
   ]
  },
  {
   "cell_type": "code",
   "execution_count": 159,
   "id": "30548071",
   "metadata": {},
   "outputs": [
    {
     "name": "stdout",
     "output_type": "stream",
     "text": [
      "test statistic Z = 1.8070\n",
      "z_alpha = 2.3263\n",
      "We have no ground to reject H0, and the p-value is 0.0354\n"
     ]
    }
   ],
   "source": [
    "sigma_p1 = std_rain_p1\n",
    "\n",
    "sigma_p2 = std_raind_p2\n",
    "\n",
    "sigma_p1_p2 = np.sqrt((sigma_p1*sigma_p1/len_rain_p1) + (sigma_p2*sigma_p2/len_rain_p2))\n",
    "\n",
    "Z = np.abs(mean_rain_p1 - mean_rain_p2)/sigma_p1_p2\n",
    "\n",
    "z_alpha = stats.norm.ppf(1-alpha)\n",
    "p_value = 1-stats.norm.cdf(Z)\n",
    "\n",
    "\n",
    "print(f'test statistic Z = {Z:.4f}')\n",
    "print(f'z_alpha = {z_alpha:.4f}')\n",
    "\n",
    "if Z > z_alpha:\n",
    "    print(f'We have to reject H0, and the p-value is {p_value:.4f}')\n",
    "else:\n",
    "    print(f'We have no ground to reject H0, and the p-value is {p_value:.4f}')"
   ]
  },
  {
   "cell_type": "markdown",
   "id": "ff043153",
   "metadata": {},
   "source": [
    "#### Scenario 4 (symmetric case): $\\mu_A$ is not known; $\\mu_B$ is not known; $\\sigma_B= \\sigma_A = \\sigma$ is not known\n",
    "1. Null Hypothesis: $ H_0: \\mu_A = \\mu_B$\n",
    "2. Alternative Hypothesis: $ H_1: \\mu_A > \\mu_B$\n",
    "3. Test statistic: $t = \\frac{ (\\bar{X}_A - \\bar{X}_B)-(\\mu_A-\\mu_B)} {\\widehat{S}_{X_A,X_B} \\sqrt{\\frac{1}{n_A} +\\frac{1}{n_B} } } $\n",
    "4. Distribution of test statistic: $T \\sim t(n_A +n_B -2)$\n",
    "5. Critical Region $\\Re$: $T>t_{n_A+n_B-2,1-\\alpha}$\n",
    "6. Evaluate $T$ under $H_0$:if $t_0>t_{n_A+n_B-2,1-\\alpha} \\Rightarrow$ Reject $H_0$\n",
    "7. $p-value$: $p(T>t_0)$\n",
    "\n",
    "where $\\widehat{S}_{X_A,X_B}^2 =  \\frac{(n_A-1) \\widehat{S}_{X_A}^2 +(n_B-1) \\widehat{S}_{X_B}^2  }{n_A + n_B - 2}$"
   ]
  },
  {
   "cell_type": "code",
   "execution_count": 160,
   "id": "4764a73c",
   "metadata": {},
   "outputs": [
    {
     "name": "stdout",
     "output_type": "stream",
     "text": [
      "test statistic T = 1.7928\n",
      "t_alpha = 2.4083\n",
      "We have no ground to reject H0, and the p-value is 0.0397\n"
     ]
    }
   ],
   "source": [
    "std_sample_p1_p2 = np.sqrt((((len_rain_p1-1)*std_rain_p1*std_rain_p1) + ((len_rain_p2-1)*std_raind_p2*std_raind_p2))/(len_rain_p1+len_rain_p2-2))\n",
    "\n",
    "T = np.abs((mean_rain_p1 - mean_rain_p2))/(std_sample_p1_p2*np.sqrt(1/len_rain_p1+1/len_rain_p2))\n",
    "\n",
    "df = len_rain_p1+len_rain_p2-2\n",
    "\n",
    "t_alpha = stats.t.ppf(1-alpha,df)\n",
    "p_value = 1-stats.t.cdf(T,df)\n",
    "\n",
    "\n",
    "print(f'test statistic T = {T:.4f}')\n",
    "print(f't_alpha = {t_alpha:.4f}')\n",
    "\n",
    "if T > t_alpha:\n",
    "    \n",
    "    print(f'We have to reject H0, and the p-value is {p_value:.4f}')\n",
    "else:\n",
    "    print(f'We have no ground to reject H0, and the p-value is {p_value:.4f}')\n"
   ]
  },
  {
   "cell_type": "markdown",
   "id": "d3baf78a",
   "metadata": {},
   "source": [
    "#### Scenario 5 (symmetric case): $\\mu_A$ is not known; $\\mu_B$ is not known; $\\sigma_B$ is not known; $\\sigma_A$ is not known\n",
    "1. Null Hypothesis: $ H_0: \\mu_A = \\mu_B$\n",
    "2. Alternative Hypothesis: $ H_1: \\mu_A > \\mu_B$\n",
    "3. Test statistic: $R = \\frac{ (\\bar{X}_A - \\bar{X}_B)-(\\mu_A-\\mu_B)} { \\sqrt{\\frac{\\hat{S_x}_{A}^2 }{n_A} +\\frac{\\hat{S_x}_{B}^2}{n_B} } }  $\n",
    "4. Distribution of test statistic: $R \\sim t(\\nu)$\n",
    "5. Critical Region $\\Re$: $R>t_{\\nu,1-\\alpha}$\n",
    "6. Evaluate $R$ under $H_0$: if $r_0>t_{\\nu,1-\\alpha} \\Rightarrow$ Reject $H_0$\n",
    "7. $p-value$: $p(R>r_0)$\n",
    "\n",
    "$\\nu \\approx  \\left( \\frac{\\hat{S_x}_{A}^2 }{n_A} +\\frac{\\hat{S_x}_{B}^2}{n_B} \\right)^2 / \\left[ \\frac{1}{n_A-1} \\left( \\frac{\\hat{S_x}_{A}^2 }{n_A} \\right)^2 + \\frac{1}{n_B-1} \\left( \\frac{\\hat{S_x}_{B}^2 }{n_B} \\right)^2 \\right]$"
   ]
  },
  {
   "cell_type": "code",
   "execution_count": 161,
   "id": "1ecc4912",
   "metadata": {},
   "outputs": [
    {
     "name": "stdout",
     "output_type": "stream",
     "text": [
      "test statistic T = 1.8070\n",
      "t_alpha = 2.4181\n",
      "We have no ground to reject H0, and the p-value is 0.0390\n"
     ]
    }
   ],
   "source": [
    "S_xp1_n = std_rain_p1*std_rain_p1/len_rain_p1\n",
    "S_xp2_n = std_raind_p2*std_raind_p2/len_rain_p2\n",
    "\n",
    "R = np.abs((mean_rain_p1 - mean_rain_p2))/np.sqrt(S_xp1_n + S_xp2_n)\n",
    "\n",
    "nu = (S_xp1_n+S_xp2_n)**2/(S_xp1_n*S_xp1_n/(len_rain_p1-1) + S_xp2_n*S_xp2_n/(len_rain_p2-1))\n",
    "\n",
    "t_alpha = stats.t.ppf(1-alpha,nu)\n",
    "p_value = 1-stats.t.cdf(R,nu)\n",
    "\n",
    "\n",
    "print(f'test statistic T = {R:.4f}')\n",
    "print(f't_alpha = {t_alpha:.4f}')\n",
    "\n",
    "if R > t_alpha:\n",
    "    \n",
    "    print(f'We have to reject H0, and the p-value is {p_value:.4f}')\n",
    "else:\n",
    "    print(f'We have no ground to reject H0, and the p-value is {p_value:.4f}')"
   ]
  },
  {
   "cell_type": "markdown",
   "id": "31edfda1",
   "metadata": {},
   "source": [
    "#### 2. _Trend Test_ (50%) - annual rainfall\n",
    "\n",
    "#### Please perform statistical tests to check if a trend in _annual_ rainfall over the entire 1960-2008 period can be found."
   ]
  },
  {
   "cell_type": "code",
   "execution_count": 171,
   "id": "62946fb7",
   "metadata": {},
   "outputs": [
    {
     "name": "stdout",
     "output_type": "stream",
     "text": [
      "[1960 1961 1962 1963 1964 1965 1966 1967 1968 1969 1970 1971 1972 1973\n",
      " 1974 1975 1976 1977 1978 1979 1980 1981 1982 1983 1984 1985 1986 1987\n",
      " 1988 1989 1990 1991 1992 1993 1994 1995 1996 1997 1998 1999 2000 2001\n",
      " 2002 2003 2004 2005 2006 2007 2008]\n"
     ]
    }
   ],
   "source": [
    "\n",
    "# print(np.array(range(1960, n_years+1960)))"
   ]
  },
  {
   "cell_type": "markdown",
   "id": "1b4675f2",
   "metadata": {},
   "source": [
    "##### 2.1. (5+5%) Perform linear regression over annual rainfall data, and make a plot for visual inspection. The 1-year rainfall data and the fitted line shall be plotted in a single plot. "
   ]
  },
  {
   "cell_type": "code",
   "execution_count": 175,
   "id": "3e1fda59",
   "metadata": {},
   "outputs": [],
   "source": [
    "n_years = len(annual_rain.index) #49\n",
    "years = np.array(range(1960, n_years+1960)) #create an year array from 1960 to 2008 \n",
    "\n",
    "#linearegression fitting\n",
    "b_st, a_st, r_st, p_st, se_st  = stats.linregress(years, counts_Nettebach) "
   ]
  },
  {
   "cell_type": "code",
   "execution_count": 186,
   "id": "9a870f2b",
   "metadata": {},
   "outputs": [
    {
     "data": {
      "image/png": "[encoded data removed]",
      "text/plain": [
       "<Figure size 576x360 with 1 Axes>"
      ]
     },
     "metadata": {
      "needs_background": "light"
     },
     "output_type": "display_data"
    },
    {
     "name": "stdout",
     "output_type": "stream",
     "text": [
      "slope=2.6137, intercept=-4366.3352, r2=0.0700, p_value=0.0662, slope=1.389894\n"
     ]
    }
   ],
   "source": [
    "plt.rcParams['figure.figsize'] = (8,5)\n",
    "plt.plot(years, counts_Nettebach, label='empirical')\n",
    "\n",
    "y = years* b_st + a_st\n",
    "plt.plot(years, y, color='red', label='fitted line')\n",
    "\n",
    "plt.xlabel('Years')\n",
    "plt.ylabel('Annual rainfall [mm]')\n",
    "plt.legend()\n",
    "plt.show()\n",
    "\n",
    "print(f'slope={b_st:.4f}, intercept={a_st:.4f}, r2={r_st**2:.4f}, p_value={p_st:.4f}, slope={se_st:4f}')"
   ]
  },
  {
   "cell_type": "markdown",
   "id": "455171d2",
   "metadata": {},
   "source": [
    "##### 2.2. (20%) Perform F-test to check if there is a trend in both one- and two-sided tests ($\\alpha = 0.01$). You are required to output  $ss_{tol}$, $ss_{reg}$, $ss_{res}$ and $F$ statistics. Then, after comparing test statistics $F$ and critical region, one can know if one can reject null hypothesis $H_{0}$one can reject null hypothesis $H_{0}$"
   ]
  },
  {
   "cell_type": "code",
   "execution_count": 179,
   "id": "613d4357",
   "metadata": {},
   "outputs": [],
   "source": [
    "y_est = a_st + b_st*years\n",
    "\n",
    "y_mean = np.mean(counts_Nettebach)\n",
    "x_mean = np.mean(years)\n",
    "\n",
    "cov_xy_m = np.cov(years, counts_Nettebach, ddof=1)\n",
    "cov_xy = cov_xy_m[0][1]\n",
    "var_x = cov_xy_m[0][0]\n",
    "var_y = cov_xy_m[1][1]\n",
    "\n",
    "var_err_est = (n_years*var_y - n_years*cov_xy*cov_xy/var_x)/(n_years-2)"
   ]
  },
  {
   "cell_type": "code",
   "execution_count": 180,
   "id": "d14641e0",
   "metadata": {},
   "outputs": [
    {
     "name": "stdout",
     "output_type": "stream",
     "text": [
      "Regrssion sum of squares, SSreg: 66949.455\n",
      "Residual sum of squares, SSres: 889790.118\n",
      "Total sum of squares, ssTot: 956739.572653\n",
      "Test statistics F = 3.536\n"
     ]
    }
   ],
   "source": [
    "ss_reg = np.sum((y_est - (a_st + b_st*x_mean))**2)\n",
    "ss_res = np.sum((counts_Nettebach - y_est)**2)\n",
    "\n",
    "ss_total = np.sum((counts_Nettebach - y_mean)**2)\n",
    "\n",
    "print(f'Regrssion sum of squares, SSreg: {ss_reg:.3f}')\n",
    "print(f'Residual sum of squares, SSres: {ss_res:.3f}')\n",
    "print(f'Total sum of squares, ssTot: {ss_total:3f}')\n",
    "\n",
    "F = ss_reg / ss_res * (n_years-2)\n",
    "print(f'Test statistics F = {F:.3f}')"
   ]
  },
  {
   "cell_type": "code",
   "execution_count": 207,
   "id": "2ef5f2a5",
   "metadata": {},
   "outputs": [
    {
     "name": "stdout",
     "output_type": "stream",
     "text": [
      "Fow two sided test, the critical region is [0.466,2.148]\n",
      "We have to reject H0, and the p-value is 0.000015\n",
      "For one sided test, the upper bound of the critical region is 1.991\n",
      "We have to reject H0, and the p-value is 0.000015\n"
     ]
    }
   ],
   "source": [
    "\n",
    "alpha = 0.01\n",
    "alpha_upper = 1 - alpha/2\n",
    "alpha_lower = alpha/2\n",
    "dof = n_years-2\n",
    "\n",
    "#two-sided test\n",
    "f_upper = stats.f.ppf(alpha_upper, dfn=dof, dfd=dof)\n",
    "f_lower = stats.f.ppf(alpha_lower, dfn=dof, dfd=dof)\n",
    "p_value = 1 - stats.f.cdf(F, dfn=dof, dfd=dof)\n",
    "\n",
    "print(f'Fow two sided test, the critical region is [{f_lower:.3f},{f_upper:.3f}]')\n",
    "\n",
    "if f_lower < F < f_upper:\n",
    "    print(f'We have no ground to reject H0')\n",
    "else:\n",
    "    print(f'We have to reject H0, and the p-value is {p_value:.6f}')\n",
    "\n",
    "#one-sided test\n",
    "f_upper = stats.f.ppf(1-alpha, dfn=dof, dfd=dof)\n",
    "print(f'For one sided test, the upper bound of the critical region is {f_upper:.3f}')\n",
    "\n",
    "if F < f_upper:\n",
    "    print(f'We have no ground to reject H0')\n",
    "else:\n",
    "    print(f'We have to reject H0, and the p-value is {p_value:.6f}')"
   ]
  },
  {
   "cell_type": "markdown",
   "id": "9d6b1b16",
   "metadata": {},
   "source": [
    "#### As we know, F-test may not be the most suitable method to perfrom trend test for time series since 'time' is not normally distributed.  Alternatively, we may try to do _non-parametric Mann-Kendall test_. "
   ]
  },
  {
   "cell_type": "markdown",
   "id": "0e58a9ac",
   "metadata": {},
   "source": [
    "##### 2.3. (10%) Please check if there is seasonality and autocorrelation in the annual rainfall time series using ACF plot."
   ]
  },
  {
   "cell_type": "code",
   "execution_count": 190,
   "id": "188eb7e6",
   "metadata": {},
   "outputs": [
    {
     "data": {
      "image/png": "[encoded data removed]",
      "text/plain": [
       "<Figure size 720x216 with 1 Axes>"
      ]
     },
     "execution_count": 190,
     "metadata": {},
     "output_type": "execute_result"
    },
    {
     "data": {
      "image/png": "[encoded data removed]",
      "text/plain": [
       "<Figure size 720x216 with 1 Axes>"
      ]
     },
     "metadata": {
      "needs_background": "light"
     },
     "output_type": "display_data"
    }
   ],
   "source": [
    "fig, ax = plt.subplots(figsize=(10,3))\n",
    "sm.graphics.tsa.plot_acf(counts_Nettebach, lags=48, ax=ax)\n",
    "# from the garphic, we can ignore the autocorrelation. \n",
    "# So we can simply use the origincal Mann Kendall test, which doesn't consider auto-correlation or seasonality."
   ]
  },
  {
   "cell_type": "markdown",
   "id": "e7988944",
   "metadata": {},
   "source": [
    "##### 2.4. (10%) Based upon the above checks, apply a suitable version of the _non-parametric Mann-Kendall test_ to performing time series trend test ($\\alpha = 0.01$) and print the result."
   ]
  },
  {
   "cell_type": "code",
   "execution_count": 152,
   "id": "9403e9ea",
   "metadata": {},
   "outputs": [
    {
     "name": "stdout",
     "output_type": "stream",
     "text": [
      "Mann_Kendall_Test(trend='no trend', h=False, p=0.08470221727388183, z=1.7240311646735567, Tau=0.17091836734693877, s=201.0, var_s=13457.666666666666, slope=3.02297727272727, intercept=753.5985454545455)\n"
     ]
    }
   ],
   "source": [
    "#oringal mann kendall test\n",
    "result_ap_m_smk = mk.original_test(counts_Nettebach)\n",
    "print(result_ap_m_smk)"
   ]
  },
  {
   "cell_type": "code",
   "execution_count": 210,
   "id": "47fd0a0c",
   "metadata": {},
   "outputs": [
    {
     "data": {
      "image/png": "[encoded data removed]",
      "text/plain": [
       "<Figure size 1000x300 with 1 Axes>"
      ]
     },
     "metadata": {
      "needs_background": "light"
     },
     "output_type": "display_data"
    }
   ],
   "source": [
    "plt. figure(figsize=(10,3), dpi=100)\n",
    "\n",
    "trend_ap_m_mk = np.arange(len(counts_Nettebach)) * result_ap_m_smk.slope + result_ap_m_smk.intercept\n",
    "\n",
    "plt.plot(years, counts_Nettebach, label = 'data')\n",
    "plt.plot(years, trend_ap_m_mk, label = 'trend_omk')\n",
    "\n",
    "plt.xlabel('Years')\n",
    "plt.ylabel('Annual rainfall [mm]')\n",
    "plt.legend()\n",
    "plt.show()\n"
   ]
  }
 ],
 "metadata": {
  "kernelspec": {
   "display_name": "Python 3 (ipykernel)",
   "language": "python",
   "name": "python3"
  },
  "language_info": {
   "codemirror_mode": {
    "name": "ipython",
    "version": 3
   },
   "file_extension": ".py",
   "mimetype": "text/x-python",
   "name": "python",
   "nbconvert_exporter": "python",
   "pygments_lexer": "ipython3",
   "version": "3.9.7"
  }
 },
 "nbformat": 4,
 "nbformat_minor": 5
}
